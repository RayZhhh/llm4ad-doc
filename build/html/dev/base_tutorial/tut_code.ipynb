{
 "cells": [
  {
   "cell_type": "markdown",
   "id": "49f553aec4175b0e",
   "metadata": {
    "collapsed": false
   },
   "source": [
    "# Function, Program, Converter\n",
    "\n",
    "> This tutorial will talk about three core classes in the base package: `Function`, `Program`, and `TextFunctionProgramConverter`. \n",
    "\n",
    "## Function class\n",
    "Intuitively, an instance of a Function class maintains a function object which is going to be optimized. Its attributes encompasses function name, arguments list, return type, docstring, and function body. \n",
    "\n",
    "Please note that a function may not be executable, since the `import` statements are not included in the function. A Function class only focuses on individual function object.\n",
    "\n",
    "## Program class\n",
    "The program class maintains a Python program that is executable. This means a program may incorporate the import statement, globals variables, some class definition, and multiple functions.\n",
    "\n",
    "## TextFunctionProgramConverter class\n",
    "The converter can convert a function/program in `str` to a `Function`/`Program` class, or convert between Function instance and Program instance."
   ]
  },
  {
   "cell_type": "markdown",
   "id": "3f223a50ea66356b",
   "metadata": {},
   "source": [
    "## Tutorials\n",
    "Below are examples on how to use these classes."
   ]
  },
  {
   "cell_type": "code",
   "execution_count": 1,
   "id": "initial_id",
   "metadata": {
    "ExecuteTime": {
     "end_time": "2025-06-03T05:10:49.875153Z",
     "start_time": "2025-06-03T05:10:49.060534Z"
    },
    "collapsed": true
   },
   "outputs": [],
   "source": [
    "from llm4ad.base import TextFunctionProgramConverter"
   ]
  },
  {
   "cell_type": "markdown",
   "id": "6154ed64221a8b5b",
   "metadata": {
    "collapsed": false
   },
   "source": [
    "This is a program in str type."
   ]
  },
  {
   "cell_type": "code",
   "execution_count": 2,
   "id": "c6af14f07c00a6f3",
   "metadata": {
    "ExecuteTime": {
     "end_time": "2025-06-03T05:10:49.879043Z",
     "start_time": "2025-06-03T05:10:49.877496Z"
    },
    "collapsed": false
   },
   "outputs": [],
   "source": [
    "example_program_str = '''\\\n",
    "import numpy as np\n",
    "from typing import List\n",
    "\n",
    "def example_function(arr: List | np.ndarray):\n",
    "    \"\"\"This is an example function.\"\"\"\n",
    "    max = np.max(arr)\n",
    "    min = np.min(arr)\n",
    "    result = max + min\n",
    "    return result\n",
    "'''"
   ]
  },
  {
   "cell_type": "markdown",
   "id": "3d359c454677c450",
   "metadata": {
    "collapsed": false
   },
   "source": [
    "The str program can be converted to a *Program* instance."
   ]
  },
  {
   "cell_type": "code",
   "execution_count": 3,
   "id": "13d2df87f4082240",
   "metadata": {
    "ExecuteTime": {
     "end_time": "2025-06-03T05:10:49.912159Z",
     "start_time": "2025-06-03T05:10:49.910334Z"
    },
    "collapsed": false
   },
   "outputs": [
    {
     "name": "stdout",
     "output_type": "stream",
     "text": [
      "<class 'llm4ad.base.code.Program'>\n",
      "---------------------------------\n",
      "import numpy as np\n",
      "from typing import List\n",
      "\n",
      "def example_function(arr: List | np.ndarray):\n",
      "    \"\"\"This is an example function.\"\"\"\n",
      "    max = np.max(arr)\n",
      "    min = np.min(arr)\n",
      "    result = max + min\n",
      "    return result\n",
      "\n",
      "\n",
      "---------------------------------\n",
      "def example_function(arr: List | np.ndarray):\n",
      "    \"\"\"This is an example function.\"\"\"\n",
      "    max = np.max(arr)\n",
      "    min = np.min(arr)\n",
      "    result = max + min\n",
      "    return result\n",
      "\n",
      "\n"
     ]
    }
   ],
   "source": [
    "example_program = TextFunctionProgramConverter.text_to_program(example_program_str)\n",
    "print(type(example_program))\n",
    "print('---------------------------------')\n",
    "print(str(example_program))\n",
    "print('---------------------------------')\n",
    "print(example_program.functions[0])"
   ]
  },
  {
   "cell_type": "markdown",
   "id": "efa7301ec35a7fbd",
   "metadata": {
    "collapsed": false
   },
   "source": [
    "The function in the str program can be extracted into a *Function* instance.\n",
    "Please note that the function is not executable, as it lacks package import statements."
   ]
  },
  {
   "cell_type": "code",
   "execution_count": 4,
   "id": "153fdd140340b4d2",
   "metadata": {
    "ExecuteTime": {
     "end_time": "2025-06-03T05:10:49.919841Z",
     "start_time": "2025-06-03T05:10:49.917824Z"
    },
    "collapsed": false
   },
   "outputs": [
    {
     "name": "stdout",
     "output_type": "stream",
     "text": [
      "<class 'llm4ad.base.code.Function'>\n",
      "\n",
      "def example_function(arr: List | np.ndarray):\n",
      "    \"\"\"This is an example function.\"\"\"\n",
      "    max = np.max(arr)\n",
      "    min = np.min(arr)\n",
      "    result = max + min\n",
      "    return result\n",
      "\n",
      "\n",
      "\n",
      "[function name] \n",
      "example_function\n",
      "\n",
      "[function docstring] \n",
      "This is an example function.\n",
      "\n",
      "[function body] \n",
      "    max = np.max(arr)\n",
      "    min = np.min(arr)\n",
      "    result = max + min\n",
      "    return result\n",
      "\n"
     ]
    }
   ],
   "source": [
    "example_function = TextFunctionProgramConverter.text_to_function(example_program_str)\n",
    "print(type(example_function))\n",
    "print()\n",
    "print(str(example_function))\n",
    "print()\n",
    "print(f'[function name] \\n{example_function.name}\\n')\n",
    "print(f'[function docstring] \\n{example_function.docstring}\\n')\n",
    "print(f'[function body] \\n{example_function.body}\\n')"
   ]
  },
  {
   "cell_type": "markdown",
   "id": "da5272f0d7dbda",
   "metadata": {
    "collapsed": false
   },
   "source": [
    "You can convert a function (in str or Function instance) to a Program instance just by providing a template program.\n",
    "As shown below, the name of the function is modified to that in the template program, the package import statements are added, but the function body are preserved."
   ]
  },
  {
   "cell_type": "code",
   "execution_count": 5,
   "id": "77e2b23e059e48ab",
   "metadata": {
    "ExecuteTime": {
     "end_time": "2025-06-03T05:10:49.924068Z",
     "start_time": "2025-06-03T05:10:49.922238Z"
    },
    "collapsed": false
   },
   "outputs": [
    {
     "name": "stdout",
     "output_type": "stream",
     "text": [
      "import numpy as np\n",
      "from typing import List\n",
      "\n",
      "def example_function(arr: List | np.ndarray):\n",
      "    \"\"\"This is an example function.\"\"\"\n",
      "    max = np.max(arr)\n",
      "    min = np.min(arr)\n",
      "    result = max + min\n",
      "    return result\n",
      "\n",
      "\n"
     ]
    }
   ],
   "source": [
    "func = '''\n",
    "def ha_ha_ha_ha(arr: List | np.ndarray):\n",
    "    \"\"\"This is an example function.\"\"\"\n",
    "    max = np.max(arr)\n",
    "    min = np.min(arr)\n",
    "    result = max + min\n",
    "    return result\n",
    "'''\n",
    "\n",
    "program = TextFunctionProgramConverter.function_to_program(func, example_program)\n",
    "print(str(program))"
   ]
  },
  {
   "cell_type": "code",
   "execution_count": null,
   "id": "1e2a94ad5c6ddfcb",
   "metadata": {
    "ExecuteTime": {
     "end_time": "2025-06-03T05:10:49.932389Z",
     "start_time": "2025-06-03T05:10:49.931212Z"
    },
    "collapsed": false
   },
   "outputs": [],
   "source": []
  }
 ],
 "metadata": {
  "kernelspec": {
   "display_name": "Python 3",
   "language": "python",
   "name": "python3"
  },
  "language_info": {
   "codemirror_mode": {
    "name": "ipython",
    "version": 2
   },
   "file_extension": ".py",
   "mimetype": "text/x-python",
   "name": "python",
   "nbconvert_exporter": "python",
   "pygments_lexer": "ipython2",
   "version": "2.7.6"
  }
 },
 "nbformat": 4,
 "nbformat_minor": 5
}
