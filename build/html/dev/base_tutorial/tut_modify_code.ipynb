{
 "cells": [
  {
   "cell_type": "markdown",
   "id": "49f553aec4175b0e",
   "metadata": {
    "collapsed": false
   },
   "source": [
    "# ModifyCode\n",
    "\n",
    "> This tutorial provides some examples on how to modify a `str` code using our provided `ModifyCode` class. The `ModifyCode` class reveals how `SecureEvaluator` add wrappers, random seeds, replace div with protected div to the \"algorithm to be evaluated\"."
   ]
  },
  {
   "cell_type": "markdown",
   "id": "5837733668184f7d",
   "metadata": {},
   "source": [
    "## Tutorial "
   ]
  },
  {
   "cell_type": "code",
   "execution_count": 1,
   "id": "initial_id",
   "metadata": {
    "ExecuteTime": {
     "end_time": "2025-06-03T05:06:02.937194Z",
     "start_time": "2025-06-03T05:06:02.090236Z"
    },
    "collapsed": true
   },
   "outputs": [],
   "source": [
    "from llm4ad.base import ModifyCode\n",
    "from llm4ad.base import TextFunctionProgramConverter"
   ]
  },
  {
   "cell_type": "code",
   "execution_count": 2,
   "id": "c6af14f07c00a6f3",
   "metadata": {
    "ExecuteTime": {
     "end_time": "2025-06-03T05:06:04.470295Z",
     "start_time": "2025-06-03T05:06:04.467922Z"
    },
    "collapsed": false
   },
   "outputs": [],
   "source": [
    "example_program_str = '''\\\n",
    "import numpy as np\n",
    "from typing import List\n",
    "\n",
    "def example_function(arr: List | np.ndarray):\n",
    "    \"\"\"This is an example function.\"\"\"\n",
    "    max = np.max(arr)\n",
    "    min = np.min(arr)\n",
    "    result = max / min\n",
    "    return result\n",
    "'''"
   ]
  },
  {
   "cell_type": "markdown",
   "id": "afd21b273ef31763",
   "metadata": {
    "collapsed": false
   },
   "source": [
    "The \"get_functions_called\" function can extract the function name of the code."
   ]
  },
  {
   "cell_type": "code",
   "execution_count": 3,
   "id": "13d2df87f4082240",
   "metadata": {
    "ExecuteTime": {
     "end_time": "2025-06-03T05:06:07.172881Z",
     "start_time": "2025-06-03T05:06:07.169846Z"
    },
    "collapsed": false
   },
   "outputs": [
    {
     "name": "stdout",
     "output_type": "stream",
     "text": [
      "{'example_function'}\n"
     ]
    }
   ],
   "source": [
    "all_functions = ModifyCode.get_functions_name(example_program_str)\n",
    "print(all_functions)"
   ]
  },
  {
   "cell_type": "markdown",
   "id": "cd311b8737b5bd7a",
   "metadata": {},
   "source": [
    "Rename the function. This can also be achieved by converting the text to a program, find the function in the program, and update its `name` attribute."
   ]
  },
  {
   "cell_type": "code",
   "execution_count": 4,
   "id": "153fdd140340b4d2",
   "metadata": {
    "ExecuteTime": {
     "end_time": "2025-06-03T05:06:09.438073Z",
     "start_time": "2025-06-03T05:06:09.434964Z"
    },
    "collapsed": false
   },
   "outputs": [
    {
     "name": "stdout",
     "output_type": "stream",
     "text": [
      "import numpy as np\n",
      "from typing import List\n",
      "\n",
      "def ha_ha_ha_ha(arr: List | np.ndarray):\n",
      "    \"\"\"This is an example function.\"\"\"\n",
      "    max = np.max(arr)\n",
      "    min = np.min(arr)\n",
      "    result = max / min\n",
      "    return result\n",
      "\n"
     ]
    }
   ],
   "source": [
    "function_name = TextFunctionProgramConverter.text_to_function(example_program_str).name\n",
    "modified_program = ModifyCode.rename_function(example_program_str, function_name, 'ha_ha_ha_ha')\n",
    "print(modified_program)"
   ]
  },
  {
   "cell_type": "markdown",
   "id": "24293ef8d180096d",
   "metadata": {},
   "source": [
    "Add a `numba.jit()` wrapper to the function. "
   ]
  },
  {
   "cell_type": "code",
   "execution_count": 5,
   "id": "77e2b23e059e48ab",
   "metadata": {
    "ExecuteTime": {
     "end_time": "2025-06-03T05:06:13.443460Z",
     "start_time": "2025-06-03T05:06:13.439914Z"
    },
    "collapsed": false
   },
   "outputs": [
    {
     "name": "stdout",
     "output_type": "stream",
     "text": [
      "import numba\n",
      "import numpy as np\n",
      "from typing import List\n",
      "\n",
      "@numba.jit(nopython=True)\n",
      "def example_function(arr: List | np.ndarray):\n",
      "    \"\"\"This is an example function.\"\"\"\n",
      "    max = np.max(arr)\n",
      "    min = np.min(arr)\n",
      "    result = max / min\n",
      "    return result\n"
     ]
    }
   ],
   "source": [
    "function_name = TextFunctionProgramConverter.text_to_function(example_program_str).name\n",
    "modified_program = ModifyCode.add_numba_decorator(example_program_str, function_name)\n",
    "print(modified_program)"
   ]
  },
  {
   "cell_type": "markdown",
   "id": "371cf0c55ca46324",
   "metadata": {},
   "source": [
    "Set random seeds in the program."
   ]
  },
  {
   "cell_type": "code",
   "execution_count": 6,
   "id": "1e2a94ad5c6ddfcb",
   "metadata": {
    "ExecuteTime": {
     "end_time": "2025-06-03T05:06:16.983272Z",
     "start_time": "2025-06-03T05:06:16.980258Z"
    },
    "collapsed": false
   },
   "outputs": [
    {
     "name": "stdout",
     "output_type": "stream",
     "text": [
      "import numpy as np\n",
      "np.random.seed(2024)\n",
      "from typing import List\n",
      "\n",
      "def example_function(arr: List | np.ndarray):\n",
      "    \"\"\"This is an example function.\"\"\"\n",
      "    max = np.max(arr)\n",
      "    min = np.min(arr)\n",
      "    result = max / min\n",
      "    return result\n"
     ]
    }
   ],
   "source": [
    "function_name = TextFunctionProgramConverter.text_to_function(example_program_str).name\n",
    "modified_program = ModifyCode.add_np_random_seed_below_numpy_import(example_program_str, seed=2024)\n",
    "print(modified_program)"
   ]
  },
  {
   "cell_type": "markdown",
   "id": "f513cf54fd6abbbf",
   "metadata": {},
   "source": [
    "Import additional packages in the program. "
   ]
  },
  {
   "cell_type": "code",
   "execution_count": 7,
   "id": "d5115c8b9a480d94",
   "metadata": {
    "ExecuteTime": {
     "end_time": "2025-06-03T05:06:21.434028Z",
     "start_time": "2025-06-03T05:06:21.431330Z"
    },
    "collapsed": false
   },
   "outputs": [
    {
     "name": "stdout",
     "output_type": "stream",
     "text": [
      "import pandas as pd\n",
      "import numpy as np\n",
      "from typing import List\n",
      "\n",
      "def example_function(arr: List | np.ndarray):\n",
      "    \"\"\"This is an example function.\"\"\"\n",
      "    max = np.max(arr)\n",
      "    min = np.min(arr)\n",
      "    result = max / min\n",
      "    return result\n"
     ]
    }
   ],
   "source": [
    "modified_function = ModifyCode.add_import_package_statement(example_program_str, package_name='pandas', as_name='pd')\n",
    "print(modified_function)"
   ]
  },
  {
   "cell_type": "markdown",
   "id": "737dcde938a838af",
   "metadata": {},
   "source": [
    "Replace all normal div operation with the protected version (achieved using ast)."
   ]
  },
  {
   "cell_type": "code",
   "execution_count": 8,
   "id": "52f0c9460b5f65ba",
   "metadata": {
    "ExecuteTime": {
     "end_time": "2025-06-03T05:06:24.783283Z",
     "start_time": "2025-06-03T05:06:24.780803Z"
    },
    "collapsed": false
   },
   "outputs": [
    {
     "name": "stdout",
     "output_type": "stream",
     "text": [
      "import numpy as np\n",
      "from typing import List\n",
      "\n",
      "def example_function(arr: List | np.ndarray):\n",
      "    \"\"\"This is an example function.\"\"\"\n",
      "    max = np.max(arr)\n",
      "    min = np.min(arr)\n",
      "    result = _protected_div(max, min)\n",
      "    return result\n",
      "\n",
      "\n",
      "def _protected_div(x, y, delta=0.0001):\n",
      "    return x / (y + delta)\n",
      "        \n"
     ]
    }
   ],
   "source": [
    "modified_function = ModifyCode.replace_div_with_protected_div(example_program_str, delta=1e-4)\n",
    "print(modified_function)"
   ]
  },
  {
   "cell_type": "code",
   "execution_count": null,
   "id": "e2db911700b90920",
   "metadata": {
    "ExecuteTime": {
     "end_time": "2024-10-21T14:59:09.234351Z",
     "start_time": "2024-10-21T14:59:09.231407Z"
    },
    "collapsed": false
   },
   "outputs": [],
   "source": []
  }
 ],
 "metadata": {
  "kernelspec": {
   "display_name": "Python 3",
   "language": "python",
   "name": "python3"
  },
  "language_info": {
   "codemirror_mode": {
    "name": "ipython",
    "version": 2
   },
   "file_extension": ".py",
   "mimetype": "text/x-python",
   "name": "python",
   "nbconvert_exporter": "python",
   "pygments_lexer": "ipython2",
   "version": "2.7.6"
  }
 },
 "nbformat": 4,
 "nbformat_minor": 5
}
